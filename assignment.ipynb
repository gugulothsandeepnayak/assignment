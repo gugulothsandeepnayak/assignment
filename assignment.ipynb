{
 "cells": [
  {
   "cell_type": "code",
   "execution_count": 2,
   "metadata": {},
   "outputs": [],
   "source": [
    "import pandas as pd\n",
    "import pyodbc"
   ]
  },
  {
   "cell_type": "code",
   "execution_count": 5,
   "metadata": {},
   "outputs": [],
   "source": [
    "db_table_nm=\"tempdb.dbo.products_def\"\n",
    "csv_file_nm=r\"C:\\Users\\sandeep\\Desktop\\products.csv\" \n",
    "sql_server_nm=\"LAPTOP-OT2KER7I\\SQLEXPRESS\"\n",
    "db_nm=\"tempdb\""
   ]
  },
  {
   "cell_type": "code",
   "execution_count": 6,
   "metadata": {},
   "outputs": [],
   "source": [
    "conn = pyodbc.connect('DRIVER={ODBC Driver 17 for SQL Server};SERVER=' + sql_server_nm + ';DATABASE=' + db_nm + ';Trusted_Connection=yes;')\n",
    "cursor = conn.cursor()"
   ]
  },
  {
   "cell_type": "code",
   "execution_count": 7,
   "metadata": {},
   "outputs": [
    {
     "data": {
      "text/plain": [
       "<pyodbc.Cursor at 0x29c58c5c030>"
      ]
     },
     "execution_count": 7,
     "metadata": {},
     "output_type": "execute_result"
    }
   ],
   "source": [
    "table_create=\"Create table \"+db_table_nm+\"(name nvarchar(50), sku nvarchar(50), description nvarchar(1000))\"\n",
    "cursor.execute(table_create)"
   ]
  },
  {
   "cell_type": "code",
   "execution_count": 9,
   "metadata": {},
   "outputs": [],
   "source": [
    "\n",
    "class insert_df:\n",
    "    \n",
    "    \n",
    "    def __init__(self,conn,csv_file_nm,db_table_nm):\n",
    "        self.csv_file_nm=csv_file_nm\n",
    "        self.db_table_nm=db_table_nm\n",
    "        \n",
    "    def insert_data(self):\n",
    "        qry = \"BULK INSERT \" + db_table_nm + \" FROM '\" + csv_file_nm + \"' WITH (FORMAT = 'CSV', FIRSTROW = 2)\"\n",
    "        cursor = conn.cursor()\n",
    "        success = cursor.execute(qry)\n",
    "        conn.commit()\n",
    "        cursor.close   \n"
   ]
  },
  {
   "cell_type": "code",
   "execution_count": 11,
   "metadata": {},
   "outputs": [],
   "source": [
    "obj=insert_df(conn,csv_file_nm, db_table_nm)\n",
    "obj.insert_data()"
   ]
  }
 ],
 "metadata": {
  "kernelspec": {
   "display_name": "Python 3",
   "language": "python",
   "name": "python3"
  },
  "language_info": {
   "codemirror_mode": {
    "name": "ipython",
    "version": 3
   },
   "file_extension": ".py",
   "mimetype": "text/x-python",
   "name": "python",
   "nbconvert_exporter": "python",
   "pygments_lexer": "ipython3",
   "version": "3.6.5"
  }
 },
 "nbformat": 4,
 "nbformat_minor": 2
}
